{
  "nbformat": 4,
  "nbformat_minor": 0,
  "metadata": {
    "colab": {
      "name": "Julia_Colab_Notebook_Template.ipynb",
      "provenance": [],
      "collapsed_sections": []
    },
    "kernelspec": {
      "display_name": "Julia",
      "language": "julia",
      "name": "julia"
    },
    "language_info": {
      "file_extension": ".jl",
      "mimetype": "application/julia",
      "name": "julia"
    }
  },
  "cells": [
    {
      "cell_type": "markdown",
      "metadata": {
        "id": "tQ1r1bbb0yBv",
        "colab_type": "text"
      },
      "source": [
        "# <img src=\"https://github.com/JuliaLang/julia-logo-graphics/raw/master/images/julia-logo-color.png\" height=\"100\" /> _Colab Notebook Template_\n",
        "\n",
        "## Instructions\n",
        "1. Work on a copy of this notebook: _File_ > _Save a copy in Drive_ (you will need a Google account). Alternatively, you can download the notebook using _File_ > _Download .ipynb_, then upload it to [Colab](https://colab.research.google.com/).\n",
        "2. If you need a GPU: _Runtime_ > _Change runtime type_ > _Harware accelerator_ = _GPU_.\n",
        "3. Execute the following cell (click on it and press Ctrl+Enter) to install Julia, IJulia and other packages (if needed, update `JULIA_VERSION` and the other parameters). This takes a couple of minutes.\n",
        "4. Reload this page (press Ctrl+R, or ⌘+R, or the F5 key) and continue to the next section.\n",
        "\n",
        "_Notes_:\n",
        "* If your Colab Runtime gets reset (e.g., due to inactivity), repeat steps 2, 3 and 4.\n",
        "* After installation, if you want to change the Julia version or activate/deactivate the GPU, you will need to reset the Runtime: _Runtime_ > _Factory reset runtime_ and repeat steps 3 and 4."
      ]
    },
    {
      "cell_type": "code",
      "metadata": {
        "id": "GIeFXS0F0zww",
        "colab_type": "code",
        "colab": {
          "base_uri": "https://localhost:8080/",
          "height": 1000
        },
        "outputId": "74af8a63-bb19-4ad8-f6f9-60f140093c74"
      },
      "source": [
        "%%shell\n",
        "set -e\n",
        "\n",
        "#---------------------------------------------------#\n",
        "JULIA_VERSION=\"1.6.0\" # any version ≥ 0.7.0\n",
        "JULIA_PACKAGES=\"IJulia BenchmarkTools Plots\"\n",
        "JULIA_PACKAGES_IF_GPU=\"CuArrays\"\n",
        "JULIA_NUM_THREADS=2\n",
        "#---------------------------------------------------#\n",
        "\n",
        "if [ -n \"$COLAB_GPU\" ] && [ -z `which julia` ]; then\n",
        "  # Install Julia\n",
        "  JULIA_VER=`cut -d '.' -f -2 <<< \"$JULIA_VERSION\"`\n",
        "  echo \"Installing Julia $JULIA_VERSION on the current Colab Runtime...\"\n",
        "  BASE_URL=\"https://julialang-s3.julialang.org/bin/linux/x64\"\n",
        "  URL=\"$BASE_URL/$JULIA_VER/julia-$JULIA_VERSION-linux-x86_64.tar.gz\"\n",
        "  wget -nv $URL -O /tmp/julia.tar.gz # -nv means \"not verbose\"\n",
        "  tar -x -f /tmp/julia.tar.gz -C /usr/local --strip-components 1\n",
        "  rm /tmp/julia.tar.gz\n",
        "\n",
        "  # Install Packages\n",
        "  if [ \"$COLAB_GPU\" = \"1\" ]; then\n",
        "      JULIA_PACKAGES=\"$JULIA_PACKAGES $JULIA_PACKAGES_IF_GPU\"\n",
        "  fi\n",
        "  for PKG in `echo $JULIA_PACKAGES`; do\n",
        "    echo \"Installing Julia package $PKG...\"\n",
        "    julia -e 'using Pkg; pkg\"add '$PKG'; precompile;\"'\n",
        "  done\n",
        "\n",
        "  # Install kernel and rename it to \"julia\"\n",
        "  echo \"Installing IJulia kernel...\"\n",
        "  julia -e 'using IJulia; IJulia.installkernel(\"julia\", env=Dict(\n",
        "      \"JULIA_NUM_THREADS\"=>\"'\"$JULIA_NUM_THREADS\"'\"))'\n",
        "  KERNEL_DIR=`julia -e \"using IJulia; print(IJulia.kerneldir())\"`\n",
        "  KERNEL_NAME=`ls -d \"$KERNEL_DIR\"/julia*`\n",
        "  mv -f $KERNEL_NAME \"$KERNEL_DIR\"/julia  \n",
        "\n",
        "  echo ''\n",
        "  echo \"Success! Please reload this page and jump to the next section.\"\n",
        "fi"
      ],
      "execution_count": null,
      "outputs": [
        {
          "output_type": "stream",
          "text": [
            "Installing Julia 1.6.0 on the current Colab Runtime...\n",
            "2020-06-23 10:28:46 URL:https://storage.googleapis.com/julialang2/bin/linux/x64/1.4/julia-1.6.0-linux-x86_64.tar.gz [99093958/99093958] -> \"/tmp/julia.tar.gz\" [1]\n",
            "Installing Julia package IJulia...\n",
            "    Cloning default registries into `~/.julia`\n",
            "    Cloning registry from \"https://github.com/JuliaRegistries/General.git\"\n",
            "\u001b[2K\u001b[?25h      Added registry `General` to `~/.julia/registries/General`\n",
            "  Resolving package versions...\n",
            "  Installed SoftGlobalScope ─ v1.0.10\n",
            "  Installed VersionParsing ── v1.2.0\n",
            "  Installed MbedTLS_jll ───── v2.16.0+2\n",
            "  Installed ZeroMQ_jll ────── v4.3.2+4\n",
            "  Installed Parsers ───────── v1.0.5\n",
            "  Installed Conda ─────────── v1.4.1\n",
            "  Installed JSON ──────────── v0.21.0\n",
            "  Installed IJulia ────────── v1.21.2\n",
            "  Installed ZMQ ───────────── v1.2.1\n",
            "  Installed MbedTLS ───────── v1.0.2\n",
            "Downloading artifact: MbedTLS\n",
            "######################################################################## 100.0%\n",
            "\u001b[1A\u001b[2K\u001b[?25hDownloading artifact: ZeroMQ\n",
            "######################################################################## 100.0%\n",
            "\u001b[1A\u001b[2K\u001b[?25h   Updating `~/.julia/environments/v1.4/Project.toml`\n",
            "  [7073ff75] + IJulia v1.21.2\n",
            "   Updating `~/.julia/environments/v1.4/Manifest.toml`\n",
            "  [8f4d0f93] + Conda v1.4.1\n",
            "  [7073ff75] + IJulia v1.21.2\n",
            "  [682c06a0] + JSON v0.21.0\n",
            "  [739be429] + MbedTLS v1.0.2\n",
            "  [c8ffd9c3] + MbedTLS_jll v2.16.0+2\n",
            "  [69de0a69] + Parsers v1.0.5\n",
            "  [b85f4697] + SoftGlobalScope v1.0.10\n",
            "  [81def892] + VersionParsing v1.2.0\n",
            "  [c2297ded] + ZMQ v1.2.1\n",
            "  [8f1865be] + ZeroMQ_jll v4.3.2+4\n",
            "  [2a0f44e3] + Base64 \n",
            "  [ade2ca70] + Dates \n",
            "  [8ba89e20] + Distributed \n",
            "  [7b1f6079] + FileWatching \n",
            "  [b77e0a4c] + InteractiveUtils \n",
            "  [76f85450] + LibGit2 \n",
            "  [8f399da3] + Libdl \n",
            "  [56ddb016] + Logging \n",
            "  [d6f4376e] + Markdown \n",
            "  [a63ad114] + Mmap \n",
            "  [44cfe95a] + Pkg \n",
            "  [de0858da] + Printf \n",
            "  [3fa0cd96] + REPL \n",
            "  [9a3f8284] + Random \n",
            "  [ea8e919c] + SHA \n",
            "  [9e88b42a] + Serialization \n",
            "  [6462fe0b] + Sockets \n",
            "  [8dfed614] + Test \n",
            "  [cf7118a7] + UUIDs \n",
            "  [4ec0a83e] + Unicode \n",
            "   Building Conda ─→ `~/.julia/packages/Conda/3rPhK/deps/build.log`\n",
            "   Building IJulia → `~/.julia/packages/IJulia/DrVMH/deps/build.log`\n",
            "Precompiling project...\n",
            "Installing Julia package BenchmarkTools...\n",
            "   Updating registry at `~/.julia/registries/General`\n",
            "   Updating git-repo `https://github.com/JuliaRegistries/General.git`\n",
            "\u001b[?25l\u001b[2K\u001b[?25h  Resolving package versions...\n",
            "  Installed BenchmarkTools ─ v0.5.0\n",
            "   Updating `~/.julia/environments/v1.4/Project.toml`\n",
            "  [6e4b80f9] + BenchmarkTools v0.5.0\n",
            "   Updating `~/.julia/environments/v1.4/Manifest.toml`\n",
            "  [6e4b80f9] + BenchmarkTools v0.5.0\n",
            "  [37e2e46d] + LinearAlgebra \n",
            "  [2f01184e] + SparseArrays \n",
            "  [10745b16] + Statistics \n",
            "Precompiling project...\n",
            "Renaming kernel to 'julia'...\n",
            "\n",
            "Success! Please reload this page and jump to the next section.\n"
          ],
          "name": "stdout"
        },
        {
          "output_type": "execute_result",
          "data": {
            "text/plain": [
              ""
            ]
          },
          "metadata": {
            "tags": []
          },
          "execution_count": 1
        }
      ]
    },
    {
      "cell_type": "markdown",
      "metadata": {
        "id": "-OS3Ac017T1i",
        "colab_type": "text"
      },
      "source": [
        "# Checking the Installation\n",
        "The `versioninfo()` function should print your Julia version and some other info about the system:"
      ]
    },
    {
      "cell_type": "code",
      "metadata": {
        "id": "EEzvvzCl1i0F",
        "colab_type": "code",
        "colab": {
          "base_uri": "https://localhost:8080/",
          "height": 153
        },
        "outputId": "0aebe6a7-fcc5-4c64-8be2-c4e9ef1fa2cb"
      },
      "source": [
        "versioninfo()"
      ],
      "execution_count": 1,
      "outputs": [
        {
          "output_type": "stream",
          "text": [
            "Julia Version 1.6.0\n",
            "Commit 44fa15b150* (2020-05-23 18:35 UTC)\n",
            "Platform Info:\n",
            "  OS: Linux (x86_64-pc-linux-gnu)\n",
            "  CPU: Intel(R) Xeon(R) CPU @ 2.20GHz\n",
            "  WORD_SIZE: 64\n",
            "  LIBM: libopenlibm\n",
            "  LLVM: libLLVM-8.0.1 (ORCJIT, broadwell)\n"
          ],
          "name": "stdout"
        }
      ]
    },
    {
      "cell_type": "code",
      "metadata": {
        "id": "yQlpeR9wNOi8",
        "colab_type": "code",
        "colab": {
          "base_uri": "https://localhost:8080/",
          "height": 204
        },
        "outputId": "881e378e-0a96-4d2a-8428-48a171436b11"
      },
      "source": [
        "using BenchmarkTools\n",
        "\n",
        "M = rand(2048, 2048)\n",
        "@benchmark M^2"
      ],
      "execution_count": 2,
      "outputs": [
        {
          "output_type": "execute_result",
          "data": {
            "text/plain": [
              "BenchmarkTools.Trial: \n",
              "  memory estimate:  32.00 MiB\n",
              "  allocs estimate:  2\n",
              "  --------------\n",
              "  minimum time:     537.678 ms (0.12% GC)\n",
              "  median time:      544.081 ms (0.00% GC)\n",
              "  mean time:        558.553 ms (2.55% GC)\n",
              "  maximum time:     654.883 ms (16.48% GC)\n",
              "  --------------\n",
              "  samples:          9\n",
              "  evals/sample:     1"
            ]
          },
          "metadata": {
            "tags": []
          },
          "execution_count": 2
        }
      ]
    },
    {
      "cell_type": "code",
      "metadata": {
        "id": "XciCcMAJOT3_",
        "colab_type": "code",
        "colab": {
          "base_uri": "https://localhost:8080/",
          "height": 34
        },
        "outputId": "2f534ca2-3796-44f7-b368-eb021012e3b2"
      },
      "source": [
        "if ENV[\"COLAB_GPU\"] == \"1\"\n",
        "    using CuArrays\n",
        "\n",
        "    M_gpu = cu(M)\n",
        "    @benchmark CuArrays.@sync M_gpu^2\n",
        "else\n",
        "    println(\"No GPU found.\")\n",
        "end"
      ],
      "execution_count": 3,
      "outputs": [
        {
          "output_type": "stream",
          "text": [
            "No GPU found.\n"
          ],
          "name": "stdout"
        }
      ]
    },
    {
      "cell_type": "markdown",
      "metadata": {
        "id": "8RC1QNNqk6h1",
        "colab_type": "text"
      },
      "source": [
        "# Need Help?\n",
        "\n",
        "* Learning: https://julialang.org/learning/\n",
        "* Documentation: https://docs.julialang.org/\n",
        "* Questions & Discussions:\n",
        "  * https://discourse.julialang.org/\n",
        "  * http://julialang.slack.com/\n",
        "  * https://stackoverflow.com/questions/tagged/julia\n",
        "\n",
        "If you ever ask for help or file an issue about Julia, you should generally provide the output of `versioninfo()`."
      ]
    },
    {
      "cell_type": "markdown",
      "metadata": {
        "id": "2UMidUQB03vJ",
        "colab_type": "text"
      },
      "source": [
        "Add new code cells by clicking the `+ Code` button (or _Insert_ > _Code cell_).\n",
        "\n",
        "Have fun!\n",
        "\n",
        "<img src=\"https://raw.githubusercontent.com/JuliaLang/julia-logo-graphics/master/images/julia-logo-mask.png\" height=\"100\" />"
      ]
    }
  ]
}
